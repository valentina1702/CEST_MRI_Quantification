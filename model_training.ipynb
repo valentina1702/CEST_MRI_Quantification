{
 "cells": [
  {
   "cell_type": "markdown",
   "id": "31d7e123",
   "metadata": {},
   "source": [
    "# Parameter quantification using a combination of CNN and LSTM"
   ]
  },
  {
   "cell_type": "markdown",
   "id": "94dcf965",
   "metadata": {},
   "source": [
    "Import Dependencies"
   ]
  },
  {
   "cell_type": "code",
   "execution_count": 48,
   "id": "44babc98",
   "metadata": {},
   "outputs": [
    {
     "name": "stdout",
     "output_type": "stream",
     "text": [
      "2.9.3\n"
     ]
    }
   ],
   "source": [
    "from pylab import *\n",
    "from sklearn.utils import shuffle\n",
    "from sklearn import preprocessing\n",
    "import matplotlib.pyplot as plt\n",
    "from scipy import stats\n",
    "import sys\n",
    "import pickle\n",
    "import scipy.io\n",
    "import pandas as pd\n",
    "sys.path.insert(0, '../src')\n",
    "\n",
    "%matplotlib inline\n",
    "import h5py\n",
    "\n",
    "import numpy as np\n",
    "import tensorflow as tf\n",
    "import keras\n",
    "import random as rn\n",
    "from keras import regularizers\n",
    "from tensorflow import keras\n",
    "from tensorflow.keras.models import Model\n",
    "from tensorflow.keras.layers import Input, Dense,BatchNormalization, Concatenate\n",
    "\n",
    "\n",
    "from keras.models import Sequential\n",
    "from keras.layers import Dense, BatchNormalization, Flatten, Dropout, Activation\n",
    "from keras.layers.convolutional import Conv1D, ZeroPadding2D, MaxPooling1D\n",
    "from keras.layers import LSTM\n",
    "from tensorflow.keras.utils import to_categorical\n",
    "from keras.layers.core import Reshape \n",
    "\n",
    "\n",
    "print(tf.__version__)\n",
    "\n",
    "import os\n",
    "os.environ['PYTHONHASHSEED'] = '0'\n",
    "\n",
    "np.random.seed(42)\n",
    "\n",
    "session_conf = tf.compat.v1.ConfigProto(intra_op_parallelism_threads=1, inter_op_parallelism_threads=1)\n",
    "from keras import backend as K\n",
    "tf.random.set_seed(12345)\n",
    "\n",
    "sees = tf.compat.v1.Session(graph=tf.compat.v1.get_default_graph(), config=session_conf)\n",
    "tf.compat.v1.keras.backend.set_session(sees)"
   ]
  },
  {
   "cell_type": "markdown",
   "id": "99be4c14",
   "metadata": {},
   "source": [
    "Utility functions"
   ]
  },
  {
   "cell_type": "code",
   "execution_count": 49,
   "id": "f45ccfc5",
   "metadata": {},
   "outputs": [],
   "source": [
    "def smooth_curve(points, factor=0.8):\n",
    "    smoothed = []\n",
    "    for point in points:\n",
    "        if smoothed:\n",
    "            previous = smoothed[-1]\n",
    "            smoothed.append(previous * factor + point * (1 - factor))\n",
    "        else:\n",
    "            smoothed.append(point)\n",
    "    return smoothed\n",
    "\n",
    "def plot_compare(history, steps=-1):\n",
    "    if steps < 0:\n",
    "        steps = len(history.history['mse'])\n",
    "    mse = smooth_curve(history.history['mae'][:steps])\n",
    "    val_mse = smooth_curve(history.history['val_mae'][:steps])\n",
    "    loss = smooth_curve(history.history['loss'][:steps])\n",
    "    val_loss = smooth_curve(history.history['val_loss'][:steps])\n",
    "    \n",
    "    plt.figure(figsize=(6, 4))\n",
    "    plt.plot(loss, c='#0c7cba', label='Train Loss')\n",
    "    plt.plot(val_loss, c='#0f9d58', label='Val Loss')\n",
    "    plt.xticks(range(0, len(loss), 5))\n",
    "    plt.xlim(0, len(loss))\n",
    "    plt.title('Train Loss: %.3f, Val Loss: %.3f' % (loss[-1], val_loss[-1]), fontsize=12)\n",
    "    plt.legend()\n",
    "    \n",
    "    plt.figure(figsize=(6, 4))\n",
    "    plt.plot(mse, c='#0c7cba', label='Early stop train')\n",
    "    plt.plot(val_mse, c='#0f9d58', label='Early stop Val')\n",
    "    plt.xticks(range(0, len(mse), 5))\n",
    "    plt.xlim(0, len(mse))\n",
    "    plt.title('Train mae: %.3f, Val mae: %.3f' % (mse[-1], val_mse[-1]), fontsize=12)\n",
    "    plt.legend()\n",
    "\n",
    "def save_history(history, fn):\n",
    "    with open(fn, 'wb') as fw:\n",
    "        pickle.dump(history.history, fw, protocol=2)\n",
    "\n",
    "def load_history(fn):\n",
    "    class Temp():\n",
    "        pass\n",
    "    history = Temp()\n",
    "    with open(fn, 'rb') as fr:\n",
    "        history.history = pickle.load(fr)\n",
    "    return history\n",
    "\n"
   ]
  },
  {
   "cell_type": "markdown",
   "id": "ec4365f5",
   "metadata": {},
   "source": [
    "Load Data"
   ]
  },
  {
   "cell_type": "code",
   "execution_count": 50,
   "id": "73cac947",
   "metadata": {},
   "outputs": [
    {
     "name": "stdout",
     "output_type": "stream",
     "text": [
      "15 15\n"
     ]
    }
   ],
   "source": [
    "import glob\n",
    "cest_array_path = '/mnt/yadav_lab_backup/vdsouza1/Lorentzian_data_preds/z*.csv'\n",
    "cest_array_paths = sorted(glob.glob(cest_array_path))\n",
    "map_array_path = '/mnt/yadav_lab_backup/vdsouza1/Lorentzian_data_preds/f*.csv'\n",
    "map_array_paths = sorted(glob.glob(map_array_path))\n",
    "print(len(cest_array_paths),len(map_array_paths))"
   ]
  },
  {
   "cell_type": "code",
   "execution_count": 51,
   "id": "4dc83209",
   "metadata": {},
   "outputs": [],
   "source": [
    "cest_array_dict =[]\n",
    "for i in range(len(cest_array_paths)):\n",
    "    b = cest_array_paths[i].split('pca_')[1][:-4]\n",
    "    string = \"simulationMatrix_\" + b \n",
    "    \n",
    "    my_dict = {string:pd.read_csv(cest_array_paths[i])}\n",
    "    cest_array_dict.append(my_dict)"
   ]
  },
  {
   "cell_type": "code",
   "execution_count": 52,
   "id": "c45c3732",
   "metadata": {},
   "outputs": [],
   "source": [
    "map_array_dict =[]\n",
    "for i in range(len(map_array_paths)):\n",
    "    b = map_array_paths[i].split('pca_')[1][:-4]\n",
    "    string = \"trainingDataIndex_\" + b \n",
    "    \n",
    "    my_dict = {string:pd.read_csv(map_array_paths[i])}\n",
    "    map_array_dict.append(my_dict)"
   ]
  },
  {
   "cell_type": "code",
   "execution_count": 53,
   "id": "929a8149",
   "metadata": {},
   "outputs": [],
   "source": [
    "#to split into test(20%)-train(80%)\n",
    "train_list = [0,1,2,3,4,5,9,10,11,12,13,14]\n",
    "test_list =[6,7,8]"
   ]
  },
  {
   "cell_type": "markdown",
   "id": "8230c14c",
   "metadata": {},
   "source": [
    "Create train and test input and output(true labels) matrices"
   ]
  },
  {
   "cell_type": "code",
   "execution_count": 54,
   "id": "d2d22044",
   "metadata": {},
   "outputs": [],
   "source": [
    "for i in range(len(test_list)-1):\n",
    "    if i==0:\n",
    "        simulationMatrix_test = pd.concat([cest_array_dict[test_list[0]][\"simulationMatrix_\" + cest_array_paths[test_list[i]].split('pca_')[1][:-4]],cest_array_dict[test_list[1]][\"simulationMatrix_\" + cest_array_paths[test_list[i+1]].split('pca_')[1][:-4]]])    \n",
    "    else:\n",
    "        simulationMatrix_test = pd.concat([simulationMatrix_test,cest_array_dict[test_list[i+1]][\"simulationMatrix_\" + cest_array_paths[test_list[i+1]].split('pca_')[1][:-4]]])    "
   ]
  },
  {
   "cell_type": "code",
   "execution_count": 55,
   "id": "907759d1",
   "metadata": {},
   "outputs": [],
   "source": [
    "for i in range(len(train_list)-1):\n",
    "    if i==0:\n",
    "        simulationMatrix_train = pd.concat([cest_array_dict[train_list[0]][\"simulationMatrix_\" + cest_array_paths[train_list[i]].split('pca_')[1][:-4]],cest_array_dict[train_list[1]][\"simulationMatrix_\" + cest_array_paths[train_list[i+1]].split('pca_')[1][:-4]]])    \n",
    "    else:\n",
    "        simulationMatrix_train = pd.concat([simulationMatrix_train,cest_array_dict[train_list[i+1]][\"simulationMatrix_\" + cest_array_paths[train_list[i+1]].split('pca_')[1][:-4]]])    "
   ]
  },
  {
   "cell_type": "code",
   "execution_count": 56,
   "id": "60d13b78",
   "metadata": {},
   "outputs": [],
   "source": [
    "for i in range(len(test_list)-1):\n",
    "    if i == 0:\n",
    "        trainingDataIndex_test = pd.concat([map_array_dict[test_list[0]][\"trainingDataIndex_\" + map_array_paths[test_list[i]].split('pca_')[1][:-4]],map_array_dict[test_list[1]][\"trainingDataIndex_\" + map_array_paths[test_list[i+1]].split('pca_')[1][:-4]]])   \n",
    "    else:\n",
    "        trainingDataIndex_test = pd.concat([trainingDataIndex_test,map_array_dict[test_list[i+1]][\"trainingDataIndex_\" + map_array_paths[test_list[i+1]].split('pca_')[1][:-4]]])"
   ]
  },
  {
   "cell_type": "code",
   "execution_count": 57,
   "id": "835d74ca",
   "metadata": {},
   "outputs": [],
   "source": [
    "for i in range(len(train_list)-1):\n",
    "    if i == 0:\n",
    "        trainingDataIndex_train = pd.concat([map_array_dict[train_list[0]][\"trainingDataIndex_\" + map_array_paths[train_list[i]].split('pca_')[1][:-4]],map_array_dict[train_list[1]][\"trainingDataIndex_\" + map_array_paths[train_list[i+1]].split('pca_')[1][:-4]]])   \n",
    "    else:\n",
    "        trainingDataIndex_train = pd.concat([trainingDataIndex_train,map_array_dict[train_list[i+1]][\"trainingDataIndex_\" + map_array_paths[train_list[i+1]].split('pca_')[1][:-4]]])"
   ]
  },
  {
   "cell_type": "markdown",
   "id": "97ebbac8",
   "metadata": {},
   "source": [
    "Following is done to accurately store indices to reconstruct every slice from 1d predictions of the model"
   ]
  },
  {
   "cell_type": "code",
   "execution_count": 58,
   "id": "3e90e31d",
   "metadata": {},
   "outputs": [],
   "source": [
    "test_map_indices = [0]\n",
    "for i in range(len(test_list)-1):\n",
    "    if i == 0:\n",
    "        test_map_indices.append(cest_array_dict[test_map_indices[-1] + test_list[0]][\"simulationMatrix_\" + cest_array_paths[test_list[0]].split('pca_')[1][:-4]].shape[0])\n",
    "        test_map_indices.append(test_map_indices[-1] + cest_array_dict[test_list[1]][\"simulationMatrix_\" + cest_array_paths[test_list[1]].split('pca_')[1][:-4]].shape[0])\n",
    "#         trainingDataIndex_test = pd.concat([map_array_dict[test_list[0]][\"trainingDataIndex_\" + map_array_paths[test_list[i]].split('_pca_')[1][:-4]],map_array_dict[test_list[1]][\"trainingDataIndex_\" + map_array_paths[test_list[i+1]].split('_pca_')[1][:-4]]])   \n",
    "    else:\n",
    "        test_map_indices.append(test_map_indices[-1] + cest_array_dict[test_list[i+1]][\"simulationMatrix_\" + cest_array_paths[test_list[i+1]].split('pca_')[1][:-4]].shape[0])\n",
    "#         trainingDataIndex_test = pd.concat([trainingDataIndex_test,map_array_dict[test_list[i+1]][\"trainingDataIndex_\" + map_array_paths[test_list[i+1]].split('_pca_')[1][:-4]]])"
   ]
  },
  {
   "cell_type": "code",
   "execution_count": 59,
   "id": "d7caaa63",
   "metadata": {},
   "outputs": [],
   "source": [
    "train_map_indices = [0]\n",
    "for i in range(len(train_list)-1):\n",
    "    if i == 0:\n",
    "        train_map_indices.append(cest_array_dict[train_map_indices[-1] + train_list[0]][\"simulationMatrix_\" + cest_array_paths[train_list[0]].split('pca_')[1][:-4]].shape[0])\n",
    "        train_map_indices.append(train_map_indices[-1] + cest_array_dict[train_list[1]][\"simulationMatrix_\" + cest_array_paths[train_list[1]].split('pca_')[1][:-4]].shape[0])\n",
    "#         trainingDataIndex_train = pd.concat([map_array_dict[train_list[0]][\"trainingDataIndex_\" + map_array_paths[train_list[i]].split('_pca_')[1][:-4]],map_array_dict[train_list[1]][\"trainingDataIndex_\" + map_array_paths[train_list[i+1]].split('_pca_')[1][:-4]]])   \n",
    "    else:\n",
    "        train_map_indices.append(train_map_indices[-1] + cest_array_dict[train_list[i+1]][\"simulationMatrix_\" + cest_array_paths[train_list[i+1]].split('pca_')[1][:-4]].shape[0])\n",
    "#         trainingDataIndex_train = pd.concat([trainingDataIndex_train,map_array_dict[train_list[i+1]][\"trainingDataIndex_\" + map_array_paths[train_list[i+1]].split('_pca_')[1][:-4]]])"
   ]
  },
  {
   "cell_type": "markdown",
   "id": "758e7c6d",
   "metadata": {},
   "source": [
    "For now prediction of only amplitude of amide parameter is shown as  an example"
   ]
  },
  {
   "cell_type": "code",
   "execution_count": 60,
   "id": "2e38ef02",
   "metadata": {},
   "outputs": [],
   "source": [
    "trainingDataIndex_train = np.asarray(trainingDataIndex_train)[:,3].reshape(-1,1)\n",
    "trainingDataIndex_test = np.asarray(trainingDataIndex_test)[:,3].reshape(-1,1)\n",
    "simulationMatrix_train = np.asarray(simulationMatrix_train).reshape(-1,56)\n",
    "simulationMatrix_test = np.asarray(simulationMatrix_test).reshape(-1,56)"
   ]
  },
  {
   "cell_type": "code",
   "execution_count": 61,
   "id": "cd63828e",
   "metadata": {},
   "outputs": [],
   "source": [
    "# np.asarray(trainingDataIndex_train)[:,6].reshape(-1,1)"
   ]
  },
  {
   "cell_type": "code",
   "execution_count": 62,
   "id": "7d2726dc",
   "metadata": {},
   "outputs": [],
   "source": [
    "# np.asarray(trainingDataIndex_train)[:,6].reshape(-1,1)"
   ]
  },
  {
   "cell_type": "code",
   "execution_count": 63,
   "id": "03800982",
   "metadata": {},
   "outputs": [
    {
     "name": "stdout",
     "output_type": "stream",
     "text": [
      "(113860, 56) (113860, 1)\n",
      "(32892, 56) (32892, 1)\n"
     ]
    }
   ],
   "source": [
    "print(simulationMatrix_train.shape, trainingDataIndex_train.shape)\n",
    "print(simulationMatrix_test.shape, trainingDataIndex_test.shape)"
   ]
  },
  {
   "cell_type": "code",
   "execution_count": 64,
   "id": "6efd0cfe",
   "metadata": {},
   "outputs": [
    {
     "data": {
      "text/plain": [
       "(113860, 1)"
      ]
     },
     "execution_count": 64,
     "metadata": {},
     "output_type": "execute_result"
    }
   ],
   "source": [
    "trainX = simulationMatrix_train\n",
    "trainy = trainingDataIndex_train\n",
    "testX = simulationMatrix_test\n",
    "testy = trainingDataIndex_test\n",
    "trainy.shape"
   ]
  },
  {
   "cell_type": "code",
   "execution_count": 65,
   "id": "ac0465df",
   "metadata": {},
   "outputs": [],
   "source": [
    "def build_model(trainX, trainy):\n",
    "    \n",
    "    K.clear_session()\n",
    "           \n",
    "    NN_model = Sequential()\n",
    "    # The Input Layer :\n",
    "    Input = trainX.shape[1]\n",
    "    NN_model.add(Conv1D(filters=32, kernel_size = 3, input_shape = (trainX.shape[1],1,), activation='relu'))\n",
    "    NN_model.add(Conv1D(filters=32, kernel_size = 3,activation='relu'))\n",
    "    NN_model.add(Conv1D(filters=64, kernel_size = 3,activation='relu'))\n",
    "    NN_model.add(MaxPooling1D(pool_size=1,strides = 2))\n",
    "    NN_model.add(LSTM(100))\n",
    "#     NN_model.add(Dense(32, Input_shape = (Input,), kernel_initializer='normal', activation='tanh'))\n",
    "    NN_model.add(Dense(100, kernel_initializer='normal', activation='tanh'))\n",
    "    NN_model.add(Dense(32, kernel_initializer='normal', activation='tanh'))\n",
    "    NN_model.add(Dense(32, kernel_initializer='normal', activation='tanh'))\n",
    "    NN_model.add(Dense(32, kernel_initializer='normal', activation='tanh'))\n",
    "#     # The Output Layer :\n",
    "    NN_model.add(Dense(1,activation=\"linear\"))   \n",
    "    adam = tf.optimizers.Adam(learning_rate=1e-6)\n",
    "# #                                  , beta_1=0.9, beta_2=0.999)\n",
    "    NN_model.compile(loss='mse', optimizer=adam, metrics = ['mse','mae'])\n",
    "    print(NN_model.summary())\n",
    "              \n",
    "    return NN_model"
   ]
  },
  {
   "cell_type": "code",
   "execution_count": 66,
   "id": "ba5386db",
   "metadata": {},
   "outputs": [
    {
     "name": "stdout",
     "output_type": "stream",
     "text": [
      "(113860, 1)\n"
     ]
    }
   ],
   "source": [
    "#scaling outputs to be (0,1) range\n",
    "from sklearn import preprocessing\n",
    "\n",
    "\n",
    "scalerY = preprocessing.MinMaxScaler(feature_range=(0,1))\n",
    "scalerY.fit(trainy)\n",
    "trainy_standard = scalerY.transform(trainy)\n",
    "\n",
    "# trainy_standard = trainy\n",
    "\n",
    "print (trainy_standard.shape)"
   ]
  },
  {
   "cell_type": "code",
   "execution_count": 24,
   "id": "7ada1722",
   "metadata": {},
   "outputs": [],
   "source": [
    "def evaluate_model(X, y):\n",
    "    verbose, epochs, batch_size = 1, 200, 64\n",
    "    early_stop = keras.callbacks.EarlyStopping(monitor='val_loss', patience=20)\n",
    "#     patience: Number of epochs with no improvement after which training will be stopped.\n",
    "    model = build_model(X, y)\n",
    "    history = model.fit(X, y, validation_split=0.2,\n",
    "                    epochs=epochs, batch_size=batch_size, verbose=verbose,\n",
    "                       callbacks=[early_stop]) \n",
    "\n",
    "    model.save_weights('model_weights.h5')\n",
    "        \n",
    "    save_history(history, 'history.bin')\n",
    "    return model, history"
   ]
  },
  {
   "cell_type": "code",
   "execution_count": 25,
   "id": "fb257f21",
   "metadata": {},
   "outputs": [
    {
     "name": "stdout",
     "output_type": "stream",
     "text": [
      "Model: \"sequential\"\n",
      "_________________________________________________________________\n",
      " Layer (type)                Output Shape              Param #   \n",
      "=================================================================\n",
      " conv1d (Conv1D)             (None, 54, 32)            128       \n",
      "                                                                 \n",
      " conv1d_1 (Conv1D)           (None, 52, 32)            3104      \n",
      "                                                                 \n",
      " conv1d_2 (Conv1D)           (None, 50, 64)            6208      \n",
      "                                                                 \n",
      " max_pooling1d (MaxPooling1D  (None, 25, 64)           0         \n",
      " )                                                               \n",
      "                                                                 \n",
      " lstm (LSTM)                 (None, 100)               66000     \n",
      "                                                                 \n",
      " dense (Dense)               (None, 32)                3232      \n",
      "                                                                 \n",
      " dense_1 (Dense)             (None, 32)                1056      \n",
      "                                                                 \n",
      " dense_2 (Dense)             (None, 32)                1056      \n",
      "                                                                 \n",
      " dense_3 (Dense)             (None, 1)                 33        \n",
      "                                                                 \n",
      "=================================================================\n",
      "Total params: 80,817\n",
      "Trainable params: 80,817\n",
      "Non-trainable params: 0\n",
      "_________________________________________________________________\n",
      "None\n",
      "Epoch 1/200\n",
      "1064/1064 [==============================] - 30s 27ms/step - loss: 7.5076e-04 - mse: 7.5076e-04 - mae: 0.0186 - val_loss: 4.2286e-04 - val_mse: 4.2286e-04 - val_mae: 0.0155\n",
      "Epoch 2/200\n",
      "1064/1064 [==============================] - 28s 26ms/step - loss: 7.0530e-04 - mse: 7.0530e-04 - mae: 0.0182 - val_loss: 4.4130e-04 - val_mse: 4.4130e-04 - val_mae: 0.0162\n",
      "Epoch 3/200\n",
      "1064/1064 [==============================] - 25s 23ms/step - loss: 6.3644e-04 - mse: 6.3644e-04 - mae: 0.0178 - val_loss: 3.7582e-04 - val_mse: 3.7582e-04 - val_mae: 0.0146\n",
      "Epoch 4/200\n",
      "1064/1064 [==============================] - 19s 18ms/step - loss: 5.6847e-04 - mse: 5.6847e-04 - mae: 0.0171 - val_loss: 4.1443e-04 - val_mse: 4.1443e-04 - val_mae: 0.0159\n",
      "Epoch 5/200\n",
      "1064/1064 [==============================] - 19s 18ms/step - loss: 4.5938e-04 - mse: 4.5938e-04 - mae: 0.0152 - val_loss: 3.1515e-04 - val_mse: 3.1515e-04 - val_mae: 0.0127\n",
      "Epoch 6/200\n",
      "1064/1064 [==============================] - 20s 19ms/step - loss: 3.6287e-04 - mse: 3.6287e-04 - mae: 0.0134 - val_loss: 3.2633e-04 - val_mse: 3.2633e-04 - val_mae: 0.0117\n",
      "Epoch 7/200\n",
      "1064/1064 [==============================] - 19s 18ms/step - loss: 2.9596e-04 - mse: 2.9596e-04 - mae: 0.0121 - val_loss: 4.5664e-04 - val_mse: 4.5664e-04 - val_mae: 0.0118\n",
      "Epoch 8/200\n",
      "1064/1064 [==============================] - 19s 18ms/step - loss: 2.5908e-04 - mse: 2.5908e-04 - mae: 0.0115 - val_loss: 2.6620e-04 - val_mse: 2.6620e-04 - val_mae: 0.0103\n",
      "Epoch 9/200\n",
      "1064/1064 [==============================] - 19s 18ms/step - loss: 2.3305e-04 - mse: 2.3305e-04 - mae: 0.0109 - val_loss: 4.6298e-04 - val_mse: 4.6298e-04 - val_mae: 0.0151\n",
      "Epoch 10/200\n",
      "1064/1064 [==============================] - 19s 18ms/step - loss: 2.2756e-04 - mse: 2.2756e-04 - mae: 0.0108 - val_loss: 2.3724e-04 - val_mse: 2.3724e-04 - val_mae: 0.0098\n",
      "Epoch 11/200\n",
      "1064/1064 [==============================] - 24s 22ms/step - loss: 2.1787e-04 - mse: 2.1787e-04 - mae: 0.0106 - val_loss: 3.0506e-04 - val_mse: 3.0506e-04 - val_mae: 0.0117\n",
      "Epoch 12/200\n",
      "1064/1064 [==============================] - 27s 26ms/step - loss: 2.1453e-04 - mse: 2.1453e-04 - mae: 0.0106 - val_loss: 2.2288e-04 - val_mse: 2.2288e-04 - val_mae: 0.0098\n",
      "Epoch 13/200\n",
      "1064/1064 [==============================] - 27s 25ms/step - loss: 2.0812e-04 - mse: 2.0812e-04 - mae: 0.0104 - val_loss: 2.2744e-04 - val_mse: 2.2744e-04 - val_mae: 0.0096\n",
      "Epoch 14/200\n",
      "1064/1064 [==============================] - 19s 18ms/step - loss: 2.0489e-04 - mse: 2.0489e-04 - mae: 0.0103 - val_loss: 2.3073e-04 - val_mse: 2.3073e-04 - val_mae: 0.0098\n",
      "Epoch 15/200\n",
      "1064/1064 [==============================] - 19s 18ms/step - loss: 2.0303e-04 - mse: 2.0303e-04 - mae: 0.0103 - val_loss: 4.8015e-04 - val_mse: 4.8015e-04 - val_mae: 0.0182\n",
      "Epoch 16/200\n",
      "1064/1064 [==============================] - 19s 18ms/step - loss: 2.0018e-04 - mse: 2.0018e-04 - mae: 0.0102 - val_loss: 2.1857e-04 - val_mse: 2.1857e-04 - val_mae: 0.0101\n",
      "Epoch 17/200\n",
      "1064/1064 [==============================] - 19s 18ms/step - loss: 1.9764e-04 - mse: 1.9764e-04 - mae: 0.0101 - val_loss: 1.9508e-04 - val_mse: 1.9508e-04 - val_mae: 0.0092\n",
      "Epoch 18/200\n",
      "1064/1064 [==============================] - 19s 17ms/step - loss: 1.9195e-04 - mse: 1.9195e-04 - mae: 0.0099 - val_loss: 2.6075e-04 - val_mse: 2.6075e-04 - val_mae: 0.0100\n",
      "Epoch 19/200\n",
      "1064/1064 [==============================] - 19s 18ms/step - loss: 1.9729e-04 - mse: 1.9729e-04 - mae: 0.0100 - val_loss: 2.1205e-04 - val_mse: 2.1205e-04 - val_mae: 0.0100\n",
      "Epoch 20/200\n",
      "1064/1064 [==============================] - 19s 17ms/step - loss: 1.8872e-04 - mse: 1.8872e-04 - mae: 0.0099 - val_loss: 1.8965e-04 - val_mse: 1.8965e-04 - val_mae: 0.0093\n",
      "Epoch 21/200\n",
      "1064/1064 [==============================] - 19s 18ms/step - loss: 1.8785e-04 - mse: 1.8785e-04 - mae: 0.0099 - val_loss: 1.9615e-04 - val_mse: 1.9615e-04 - val_mae: 0.0096\n",
      "Epoch 22/200\n",
      "1064/1064 [==============================] - 19s 18ms/step - loss: 1.8918e-04 - mse: 1.8918e-04 - mae: 0.0099 - val_loss: 2.1216e-04 - val_mse: 2.1216e-04 - val_mae: 0.0100\n",
      "Epoch 23/200\n",
      "1064/1064 [==============================] - 19s 18ms/step - loss: 1.8204e-04 - mse: 1.8204e-04 - mae: 0.0097 - val_loss: 1.8829e-04 - val_mse: 1.8829e-04 - val_mae: 0.0092\n",
      "Epoch 24/200\n",
      "1064/1064 [==============================] - 19s 18ms/step - loss: 1.8256e-04 - mse: 1.8256e-04 - mae: 0.0097 - val_loss: 1.9822e-04 - val_mse: 1.9822e-04 - val_mae: 0.0096\n",
      "Epoch 25/200\n",
      "1064/1064 [==============================] - 19s 18ms/step - loss: 1.8175e-04 - mse: 1.8175e-04 - mae: 0.0097 - val_loss: 2.1362e-04 - val_mse: 2.1362e-04 - val_mae: 0.0106\n",
      "Epoch 26/200\n",
      "1064/1064 [==============================] - 19s 18ms/step - loss: 1.7889e-04 - mse: 1.7889e-04 - mae: 0.0096 - val_loss: 1.8112e-04 - val_mse: 1.8112e-04 - val_mae: 0.0093\n",
      "Epoch 27/200\n",
      "1064/1064 [==============================] - 18s 17ms/step - loss: 1.7447e-04 - mse: 1.7447e-04 - mae: 0.0095 - val_loss: 1.7479e-04 - val_mse: 1.7479e-04 - val_mae: 0.0091\n",
      "Epoch 28/200\n",
      "1064/1064 [==============================] - 19s 18ms/step - loss: 1.7457e-04 - mse: 1.7457e-04 - mae: 0.0095 - val_loss: 2.0914e-04 - val_mse: 2.0914e-04 - val_mae: 0.0103\n",
      "Epoch 29/200\n",
      "1064/1064 [==============================] - 19s 18ms/step - loss: 1.7185e-04 - mse: 1.7185e-04 - mae: 0.0094 - val_loss: 1.7160e-04 - val_mse: 1.7160e-04 - val_mae: 0.0088\n",
      "Epoch 30/200\n",
      "1064/1064 [==============================] - 23s 21ms/step - loss: 1.7285e-04 - mse: 1.7285e-04 - mae: 0.0095 - val_loss: 2.0431e-04 - val_mse: 2.0431e-04 - val_mae: 0.0100\n",
      "Epoch 31/200\n",
      "1064/1064 [==============================] - 28s 26ms/step - loss: 1.7121e-04 - mse: 1.7121e-04 - mae: 0.0094 - val_loss: 1.6911e-04 - val_mse: 1.6911e-04 - val_mae: 0.0090\n",
      "Epoch 32/200\n",
      "1064/1064 [==============================] - 28s 26ms/step - loss: 1.6931e-04 - mse: 1.6931e-04 - mae: 0.0094 - val_loss: 1.8343e-04 - val_mse: 1.8343e-04 - val_mae: 0.0090\n",
      "Epoch 33/200\n",
      "1064/1064 [==============================] - 28s 27ms/step - loss: 1.6716e-04 - mse: 1.6716e-04 - mae: 0.0093 - val_loss: 1.8978e-04 - val_mse: 1.8978e-04 - val_mae: 0.0096\n",
      "Epoch 34/200\n",
      "1064/1064 [==============================] - 28s 27ms/step - loss: 1.6524e-04 - mse: 1.6524e-04 - mae: 0.0093 - val_loss: 1.7870e-04 - val_mse: 1.7870e-04 - val_mae: 0.0091\n",
      "Epoch 35/200\n",
      "1064/1064 [==============================] - 28s 27ms/step - loss: 1.6399e-04 - mse: 1.6399e-04 - mae: 0.0092 - val_loss: 1.6271e-04 - val_mse: 1.6271e-04 - val_mae: 0.0090\n",
      "Epoch 36/200\n",
      "1064/1064 [==============================] - 28s 26ms/step - loss: 1.6792e-04 - mse: 1.6792e-04 - mae: 0.0093 - val_loss: 1.6248e-04 - val_mse: 1.6248e-04 - val_mae: 0.0088\n",
      "Epoch 37/200\n",
      "1064/1064 [==============================] - 28s 26ms/step - loss: 1.6215e-04 - mse: 1.6215e-04 - mae: 0.0092 - val_loss: 1.7054e-04 - val_mse: 1.7054e-04 - val_mae: 0.0092\n",
      "Epoch 38/200\n",
      "1064/1064 [==============================] - 28s 27ms/step - loss: 1.6100e-04 - mse: 1.6100e-04 - mae: 0.0091 - val_loss: 2.4609e-04 - val_mse: 2.4609e-04 - val_mae: 0.0123\n",
      "Epoch 39/200\n",
      "1064/1064 [==============================] - 28s 26ms/step - loss: 1.6316e-04 - mse: 1.6316e-04 - mae: 0.0092 - val_loss: 1.5540e-04 - val_mse: 1.5540e-04 - val_mae: 0.0085\n",
      "Epoch 40/200\n",
      "1064/1064 [==============================] - 28s 26ms/step - loss: 1.5904e-04 - mse: 1.5904e-04 - mae: 0.0091 - val_loss: 1.6102e-04 - val_mse: 1.6102e-04 - val_mae: 0.0089\n",
      "Epoch 41/200\n",
      "1064/1064 [==============================] - 28s 27ms/step - loss: 1.5714e-04 - mse: 1.5714e-04 - mae: 0.0090 - val_loss: 1.6274e-04 - val_mse: 1.6274e-04 - val_mae: 0.0087\n",
      "Epoch 42/200\n",
      "1064/1064 [==============================] - 28s 27ms/step - loss: 1.5722e-04 - mse: 1.5722e-04 - mae: 0.0090 - val_loss: 1.5577e-04 - val_mse: 1.5577e-04 - val_mae: 0.0087\n",
      "Epoch 43/200\n",
      "1064/1064 [==============================] - 28s 27ms/step - loss: 1.5596e-04 - mse: 1.5596e-04 - mae: 0.0090 - val_loss: 1.5464e-04 - val_mse: 1.5464e-04 - val_mae: 0.0086\n",
      "Epoch 44/200\n",
      "1064/1064 [==============================] - 28s 27ms/step - loss: 1.5560e-04 - mse: 1.5560e-04 - mae: 0.0090 - val_loss: 1.7583e-04 - val_mse: 1.7583e-04 - val_mae: 0.0093\n",
      "Epoch 45/200\n",
      "1064/1064 [==============================] - 28s 27ms/step - loss: 1.5618e-04 - mse: 1.5618e-04 - mae: 0.0090 - val_loss: 1.5111e-04 - val_mse: 1.5111e-04 - val_mae: 0.0084\n",
      "Epoch 46/200\n",
      "1064/1064 [==============================] - 28s 27ms/step - loss: 1.5428e-04 - mse: 1.5428e-04 - mae: 0.0089 - val_loss: 1.7223e-04 - val_mse: 1.7223e-04 - val_mae: 0.0094\n",
      "Epoch 47/200\n",
      "1064/1064 [==============================] - 28s 27ms/step - loss: 1.5361e-04 - mse: 1.5361e-04 - mae: 0.0089 - val_loss: 1.6366e-04 - val_mse: 1.6366e-04 - val_mae: 0.0088\n",
      "Epoch 48/200\n",
      "1064/1064 [==============================] - 28s 27ms/step - loss: 1.5326e-04 - mse: 1.5326e-04 - mae: 0.0089 - val_loss: 1.5226e-04 - val_mse: 1.5226e-04 - val_mae: 0.0084\n",
      "Epoch 49/200\n",
      "1064/1064 [==============================] - 28s 26ms/step - loss: 1.5080e-04 - mse: 1.5080e-04 - mae: 0.0088 - val_loss: 1.5671e-04 - val_mse: 1.5671e-04 - val_mae: 0.0087\n",
      "Epoch 50/200\n",
      "1064/1064 [==============================] - 28s 26ms/step - loss: 1.5117e-04 - mse: 1.5117e-04 - mae: 0.0088 - val_loss: 1.5230e-04 - val_mse: 1.5230e-04 - val_mae: 0.0085\n",
      "Epoch 51/200\n",
      "1064/1064 [==============================] - 28s 27ms/step - loss: 1.5245e-04 - mse: 1.5245e-04 - mae: 0.0089 - val_loss: 1.6731e-04 - val_mse: 1.6731e-04 - val_mae: 0.0090\n",
      "Epoch 52/200\n",
      "1064/1064 [==============================] - 28s 26ms/step - loss: 1.5280e-04 - mse: 1.5280e-04 - mae: 0.0089 - val_loss: 1.5974e-04 - val_mse: 1.5974e-04 - val_mae: 0.0088\n",
      "Epoch 53/200\n",
      "1064/1064 [==============================] - 28s 26ms/step - loss: 1.4981e-04 - mse: 1.4981e-04 - mae: 0.0088 - val_loss: 1.5878e-04 - val_mse: 1.5878e-04 - val_mae: 0.0090\n",
      "Epoch 54/200\n",
      "1064/1064 [==============================] - 28s 26ms/step - loss: 1.5034e-04 - mse: 1.5034e-04 - mae: 0.0088 - val_loss: 2.3068e-04 - val_mse: 2.3068e-04 - val_mae: 0.0119\n",
      "Epoch 55/200\n",
      "1064/1064 [==============================] - 28s 27ms/step - loss: 1.5052e-04 - mse: 1.5052e-04 - mae: 0.0088 - val_loss: 1.5890e-04 - val_mse: 1.5890e-04 - val_mae: 0.0091\n",
      "Epoch 56/200\n",
      "1064/1064 [==============================] - 28s 27ms/step - loss: 1.4779e-04 - mse: 1.4779e-04 - mae: 0.0087 - val_loss: 1.8064e-04 - val_mse: 1.8064e-04 - val_mae: 0.0098\n",
      "Epoch 57/200\n",
      "1064/1064 [==============================] - 28s 27ms/step - loss: 1.4696e-04 - mse: 1.4696e-04 - mae: 0.0087 - val_loss: 1.4973e-04 - val_mse: 1.4973e-04 - val_mae: 0.0085\n",
      "Epoch 58/200\n",
      "1064/1064 [==============================] - 28s 26ms/step - loss: 1.4788e-04 - mse: 1.4788e-04 - mae: 0.0087 - val_loss: 1.5295e-04 - val_mse: 1.5295e-04 - val_mae: 0.0085\n",
      "Epoch 59/200\n",
      "1064/1064 [==============================] - 28s 26ms/step - loss: 1.4612e-04 - mse: 1.4612e-04 - mae: 0.0087 - val_loss: 1.6132e-04 - val_mse: 1.6132e-04 - val_mae: 0.0091\n",
      "Epoch 60/200\n",
      "1064/1064 [==============================] - 28s 26ms/step - loss: 1.4661e-04 - mse: 1.4661e-04 - mae: 0.0087 - val_loss: 1.4702e-04 - val_mse: 1.4702e-04 - val_mae: 0.0084\n",
      "Epoch 61/200\n",
      "1064/1064 [==============================] - 28s 26ms/step - loss: 1.4897e-04 - mse: 1.4897e-04 - mae: 0.0088 - val_loss: 1.5523e-04 - val_mse: 1.5523e-04 - val_mae: 0.0086\n",
      "Epoch 62/200\n",
      "1064/1064 [==============================] - 28s 26ms/step - loss: 1.4759e-04 - mse: 1.4759e-04 - mae: 0.0087 - val_loss: 1.5736e-04 - val_mse: 1.5736e-04 - val_mae: 0.0089\n",
      "Epoch 63/200\n",
      "1064/1064 [==============================] - 28s 27ms/step - loss: 1.4515e-04 - mse: 1.4515e-04 - mae: 0.0087 - val_loss: 1.5175e-04 - val_mse: 1.5175e-04 - val_mae: 0.0086\n",
      "Epoch 64/200\n",
      "1064/1064 [==============================] - 28s 27ms/step - loss: 1.4477e-04 - mse: 1.4477e-04 - mae: 0.0086 - val_loss: 1.5566e-04 - val_mse: 1.5566e-04 - val_mae: 0.0088\n",
      "Epoch 65/200\n",
      "1064/1064 [==============================] - 28s 27ms/step - loss: 1.4421e-04 - mse: 1.4421e-04 - mae: 0.0086 - val_loss: 1.5044e-04 - val_mse: 1.5044e-04 - val_mae: 0.0085\n",
      "Epoch 66/200\n",
      "1064/1064 [==============================] - 28s 27ms/step - loss: 1.4350e-04 - mse: 1.4350e-04 - mae: 0.0086 - val_loss: 1.4716e-04 - val_mse: 1.4716e-04 - val_mae: 0.0085\n",
      "Epoch 67/200\n",
      "1064/1064 [==============================] - 28s 27ms/step - loss: 1.4342e-04 - mse: 1.4342e-04 - mae: 0.0086 - val_loss: 1.5986e-04 - val_mse: 1.5986e-04 - val_mae: 0.0091\n",
      "Epoch 68/200\n",
      "1064/1064 [==============================] - 28s 26ms/step - loss: 1.4318e-04 - mse: 1.4318e-04 - mae: 0.0086 - val_loss: 1.4045e-04 - val_mse: 1.4045e-04 - val_mae: 0.0082\n",
      "Epoch 69/200\n",
      "1064/1064 [==============================] - 25s 24ms/step - loss: 1.4119e-04 - mse: 1.4119e-04 - mae: 0.0085 - val_loss: 1.5693e-04 - val_mse: 1.5693e-04 - val_mae: 0.0090\n",
      "Epoch 70/200\n",
      "1064/1064 [==============================] - 26s 24ms/step - loss: 1.4189e-04 - mse: 1.4189e-04 - mae: 0.0085 - val_loss: 1.4628e-04 - val_mse: 1.4628e-04 - val_mae: 0.0083\n",
      "Epoch 71/200\n",
      "1064/1064 [==============================] - 28s 27ms/step - loss: 1.4169e-04 - mse: 1.4169e-04 - mae: 0.0085 - val_loss: 1.4215e-04 - val_mse: 1.4215e-04 - val_mae: 0.0083\n",
      "Epoch 72/200\n",
      "1064/1064 [==============================] - 28s 27ms/step - loss: 1.4042e-04 - mse: 1.4042e-04 - mae: 0.0085 - val_loss: 1.4595e-04 - val_mse: 1.4595e-04 - val_mae: 0.0083\n",
      "Epoch 73/200\n",
      "1064/1064 [==============================] - 28s 27ms/step - loss: 1.3992e-04 - mse: 1.3992e-04 - mae: 0.0085 - val_loss: 1.5160e-04 - val_mse: 1.5160e-04 - val_mae: 0.0084\n",
      "Epoch 74/200\n",
      "1064/1064 [==============================] - 28s 26ms/step - loss: 1.4073e-04 - mse: 1.4073e-04 - mae: 0.0085 - val_loss: 1.4734e-04 - val_mse: 1.4734e-04 - val_mae: 0.0086\n",
      "Epoch 75/200\n",
      "1064/1064 [==============================] - 28s 27ms/step - loss: 1.4100e-04 - mse: 1.4100e-04 - mae: 0.0085 - val_loss: 1.7235e-04 - val_mse: 1.7235e-04 - val_mae: 0.0097\n",
      "Epoch 76/200\n",
      "1064/1064 [==============================] - 28s 27ms/step - loss: 1.4055e-04 - mse: 1.4055e-04 - mae: 0.0085 - val_loss: 1.4731e-04 - val_mse: 1.4731e-04 - val_mae: 0.0086\n",
      "Epoch 77/200\n",
      "1064/1064 [==============================] - 28s 27ms/step - loss: 1.3990e-04 - mse: 1.3990e-04 - mae: 0.0085 - val_loss: 1.7554e-04 - val_mse: 1.7554e-04 - val_mae: 0.0097\n",
      "Epoch 78/200\n",
      "1064/1064 [==============================] - 28s 27ms/step - loss: 1.3907e-04 - mse: 1.3907e-04 - mae: 0.0085 - val_loss: 1.5098e-04 - val_mse: 1.5098e-04 - val_mae: 0.0086\n",
      "Epoch 79/200\n",
      "1064/1064 [==============================] - 28s 27ms/step - loss: 1.3966e-04 - mse: 1.3966e-04 - mae: 0.0085 - val_loss: 1.5582e-04 - val_mse: 1.5582e-04 - val_mae: 0.0089\n",
      "Epoch 80/200\n",
      "1064/1064 [==============================] - 28s 26ms/step - loss: 1.3765e-04 - mse: 1.3765e-04 - mae: 0.0084 - val_loss: 1.4897e-04 - val_mse: 1.4897e-04 - val_mae: 0.0087\n",
      "Epoch 81/200\n",
      "1064/1064 [==============================] - 28s 27ms/step - loss: 1.3794e-04 - mse: 1.3794e-04 - mae: 0.0084 - val_loss: 1.7773e-04 - val_mse: 1.7773e-04 - val_mae: 0.0100\n",
      "Epoch 82/200\n",
      "1064/1064 [==============================] - 28s 27ms/step - loss: 1.3666e-04 - mse: 1.3666e-04 - mae: 0.0084 - val_loss: 1.4272e-04 - val_mse: 1.4272e-04 - val_mae: 0.0082\n",
      "Epoch 83/200\n",
      "1064/1064 [==============================] - 28s 27ms/step - loss: 1.3728e-04 - mse: 1.3728e-04 - mae: 0.0084 - val_loss: 1.4093e-04 - val_mse: 1.4093e-04 - val_mae: 0.0083\n",
      "Epoch 84/200\n",
      "1064/1064 [==============================] - 28s 27ms/step - loss: 1.3729e-04 - mse: 1.3729e-04 - mae: 0.0084 - val_loss: 1.3702e-04 - val_mse: 1.3702e-04 - val_mae: 0.0081\n",
      "Epoch 85/200\n",
      "1064/1064 [==============================] - 28s 27ms/step - loss: 1.3589e-04 - mse: 1.3589e-04 - mae: 0.0083 - val_loss: 1.4794e-04 - val_mse: 1.4794e-04 - val_mae: 0.0085\n",
      "Epoch 86/200\n",
      "1064/1064 [==============================] - 28s 27ms/step - loss: 1.3663e-04 - mse: 1.3663e-04 - mae: 0.0084 - val_loss: 1.4091e-04 - val_mse: 1.4091e-04 - val_mae: 0.0081\n",
      "Epoch 87/200\n",
      "1064/1064 [==============================] - 28s 27ms/step - loss: 1.3606e-04 - mse: 1.3606e-04 - mae: 0.0084 - val_loss: 1.3935e-04 - val_mse: 1.3935e-04 - val_mae: 0.0083\n",
      "Epoch 88/200\n",
      "1064/1064 [==============================] - 28s 27ms/step - loss: 1.3537e-04 - mse: 1.3537e-04 - mae: 0.0083 - val_loss: 1.3983e-04 - val_mse: 1.3983e-04 - val_mae: 0.0082\n",
      "Epoch 89/200\n",
      "1064/1064 [==============================] - 28s 27ms/step - loss: 1.3583e-04 - mse: 1.3583e-04 - mae: 0.0083 - val_loss: 1.5666e-04 - val_mse: 1.5666e-04 - val_mae: 0.0088\n",
      "Epoch 90/200\n",
      "1064/1064 [==============================] - 28s 26ms/step - loss: 1.3417e-04 - mse: 1.3417e-04 - mae: 0.0083 - val_loss: 1.4030e-04 - val_mse: 1.4030e-04 - val_mae: 0.0083\n",
      "Epoch 91/200\n",
      "1064/1064 [==============================] - 28s 27ms/step - loss: 1.3517e-04 - mse: 1.3517e-04 - mae: 0.0083 - val_loss: 1.3265e-04 - val_mse: 1.3265e-04 - val_mae: 0.0079\n",
      "Epoch 92/200\n",
      "1064/1064 [==============================] - 28s 27ms/step - loss: 1.3409e-04 - mse: 1.3409e-04 - mae: 0.0083 - val_loss: 1.6490e-04 - val_mse: 1.6490e-04 - val_mae: 0.0093\n",
      "Epoch 93/200\n",
      "1064/1064 [==============================] - 28s 27ms/step - loss: 1.3471e-04 - mse: 1.3471e-04 - mae: 0.0083 - val_loss: 1.3655e-04 - val_mse: 1.3655e-04 - val_mae: 0.0081\n",
      "Epoch 94/200\n",
      "1064/1064 [==============================] - 28s 27ms/step - loss: 1.3390e-04 - mse: 1.3390e-04 - mae: 0.0083 - val_loss: 1.3449e-04 - val_mse: 1.3449e-04 - val_mae: 0.0080\n",
      "Epoch 95/200\n",
      "1064/1064 [==============================] - 28s 27ms/step - loss: 1.3380e-04 - mse: 1.3380e-04 - mae: 0.0083 - val_loss: 1.4715e-04 - val_mse: 1.4715e-04 - val_mae: 0.0088\n",
      "Epoch 96/200\n",
      "1064/1064 [==============================] - 28s 27ms/step - loss: 1.3200e-04 - mse: 1.3200e-04 - mae: 0.0082 - val_loss: 1.5246e-04 - val_mse: 1.5246e-04 - val_mae: 0.0089\n",
      "Epoch 97/200\n",
      "1064/1064 [==============================] - 28s 27ms/step - loss: 1.3268e-04 - mse: 1.3268e-04 - mae: 0.0082 - val_loss: 1.4708e-04 - val_mse: 1.4708e-04 - val_mae: 0.0087\n",
      "Epoch 98/200\n",
      "1064/1064 [==============================] - 28s 27ms/step - loss: 1.3271e-04 - mse: 1.3271e-04 - mae: 0.0082 - val_loss: 1.3689e-04 - val_mse: 1.3689e-04 - val_mae: 0.0083\n",
      "Epoch 99/200\n",
      "1064/1064 [==============================] - 28s 27ms/step - loss: 1.3211e-04 - mse: 1.3211e-04 - mae: 0.0082 - val_loss: 1.4442e-04 - val_mse: 1.4442e-04 - val_mae: 0.0086\n",
      "Epoch 100/200\n",
      "1064/1064 [==============================] - 28s 27ms/step - loss: 1.3121e-04 - mse: 1.3121e-04 - mae: 0.0082 - val_loss: 1.5028e-04 - val_mse: 1.5028e-04 - val_mae: 0.0086\n",
      "Epoch 101/200\n",
      "1064/1064 [==============================] - 28s 26ms/step - loss: 1.3160e-04 - mse: 1.3160e-04 - mae: 0.0082 - val_loss: 1.3408e-04 - val_mse: 1.3408e-04 - val_mae: 0.0080\n",
      "Epoch 102/200\n",
      "1064/1064 [==============================] - 28s 27ms/step - loss: 1.3031e-04 - mse: 1.3031e-04 - mae: 0.0082 - val_loss: 1.3749e-04 - val_mse: 1.3749e-04 - val_mae: 0.0081\n",
      "Epoch 103/200\n",
      "1064/1064 [==============================] - 28s 26ms/step - loss: 1.3106e-04 - mse: 1.3106e-04 - mae: 0.0082 - val_loss: 1.3312e-04 - val_mse: 1.3312e-04 - val_mae: 0.0080\n",
      "Epoch 104/200\n",
      "1064/1064 [==============================] - 28s 27ms/step - loss: 1.2984e-04 - mse: 1.2984e-04 - mae: 0.0082 - val_loss: 1.3230e-04 - val_mse: 1.3230e-04 - val_mae: 0.0079\n",
      "Epoch 105/200\n",
      "1064/1064 [==============================] - 28s 27ms/step - loss: 1.2942e-04 - mse: 1.2942e-04 - mae: 0.0081 - val_loss: 1.3342e-04 - val_mse: 1.3342e-04 - val_mae: 0.0080\n",
      "Epoch 106/200\n",
      "1064/1064 [==============================] - 28s 27ms/step - loss: 1.2922e-04 - mse: 1.2922e-04 - mae: 0.0081 - val_loss: 1.3343e-04 - val_mse: 1.3343e-04 - val_mae: 0.0081\n",
      "Epoch 107/200\n",
      "1064/1064 [==============================] - 28s 27ms/step - loss: 1.2943e-04 - mse: 1.2943e-04 - mae: 0.0081 - val_loss: 1.4680e-04 - val_mse: 1.4680e-04 - val_mae: 0.0087\n",
      "Epoch 108/200\n",
      "1064/1064 [==============================] - 28s 26ms/step - loss: 1.2851e-04 - mse: 1.2851e-04 - mae: 0.0081 - val_loss: 1.3635e-04 - val_mse: 1.3635e-04 - val_mae: 0.0082\n",
      "Epoch 109/200\n",
      "1064/1064 [==============================] - 28s 27ms/step - loss: 1.2782e-04 - mse: 1.2782e-04 - mae: 0.0081 - val_loss: 1.3699e-04 - val_mse: 1.3699e-04 - val_mae: 0.0081\n",
      "Epoch 110/200\n",
      "1064/1064 [==============================] - 28s 27ms/step - loss: 1.2811e-04 - mse: 1.2811e-04 - mae: 0.0081 - val_loss: 1.4641e-04 - val_mse: 1.4641e-04 - val_mae: 0.0086\n",
      "Epoch 111/200\n",
      "1064/1064 [==============================] - 28s 27ms/step - loss: 1.2843e-04 - mse: 1.2843e-04 - mae: 0.0081 - val_loss: 1.3303e-04 - val_mse: 1.3303e-04 - val_mae: 0.0080\n",
      "Epoch 112/200\n",
      "1064/1064 [==============================] - 28s 27ms/step - loss: 1.2766e-04 - mse: 1.2766e-04 - mae: 0.0081 - val_loss: 1.3168e-04 - val_mse: 1.3168e-04 - val_mae: 0.0080\n",
      "Epoch 113/200\n",
      "1064/1064 [==============================] - 28s 26ms/step - loss: 1.2710e-04 - mse: 1.2710e-04 - mae: 0.0081 - val_loss: 1.3953e-04 - val_mse: 1.3953e-04 - val_mae: 0.0084\n",
      "Epoch 114/200\n",
      "1064/1064 [==============================] - 28s 26ms/step - loss: 1.2662e-04 - mse: 1.2662e-04 - mae: 0.0080 - val_loss: 1.3218e-04 - val_mse: 1.3218e-04 - val_mae: 0.0080\n",
      "Epoch 115/200\n",
      "1064/1064 [==============================] - 28s 27ms/step - loss: 1.2684e-04 - mse: 1.2684e-04 - mae: 0.0080 - val_loss: 1.5418e-04 - val_mse: 1.5418e-04 - val_mae: 0.0090\n",
      "Epoch 116/200\n",
      "1064/1064 [==============================] - 28s 27ms/step - loss: 1.2663e-04 - mse: 1.2663e-04 - mae: 0.0080 - val_loss: 1.2867e-04 - val_mse: 1.2867e-04 - val_mae: 0.0078\n",
      "Epoch 117/200\n",
      "1064/1064 [==============================] - 27s 26ms/step - loss: 1.2599e-04 - mse: 1.2599e-04 - mae: 0.0080 - val_loss: 1.3836e-04 - val_mse: 1.3836e-04 - val_mae: 0.0084\n",
      "Epoch 118/200\n",
      "1064/1064 [==============================] - 28s 26ms/step - loss: 1.2582e-04 - mse: 1.2582e-04 - mae: 0.0080 - val_loss: 1.3203e-04 - val_mse: 1.3203e-04 - val_mae: 0.0081\n",
      "Epoch 119/200\n",
      "1064/1064 [==============================] - 28s 27ms/step - loss: 1.2490e-04 - mse: 1.2490e-04 - mae: 0.0080 - val_loss: 1.3085e-04 - val_mse: 1.3085e-04 - val_mae: 0.0079\n",
      "Epoch 120/200\n",
      "1064/1064 [==============================] - 28s 26ms/step - loss: 1.2570e-04 - mse: 1.2570e-04 - mae: 0.0080 - val_loss: 1.3514e-04 - val_mse: 1.3514e-04 - val_mae: 0.0081\n",
      "Epoch 121/200\n",
      "1064/1064 [==============================] - 27s 26ms/step - loss: 1.2561e-04 - mse: 1.2561e-04 - mae: 0.0080 - val_loss: 1.3623e-04 - val_mse: 1.3623e-04 - val_mae: 0.0081\n",
      "Epoch 122/200\n",
      "1064/1064 [==============================] - 27s 25ms/step - loss: 1.2490e-04 - mse: 1.2490e-04 - mae: 0.0080 - val_loss: 1.3143e-04 - val_mse: 1.3143e-04 - val_mae: 0.0079\n",
      "Epoch 123/200\n",
      "1064/1064 [==============================] - 25s 23ms/step - loss: 1.2430e-04 - mse: 1.2430e-04 - mae: 0.0080 - val_loss: 1.3625e-04 - val_mse: 1.3625e-04 - val_mae: 0.0082\n",
      "Epoch 124/200\n",
      "1064/1064 [==============================] - 20s 19ms/step - loss: 1.2365e-04 - mse: 1.2365e-04 - mae: 0.0079 - val_loss: 1.3157e-04 - val_mse: 1.3157e-04 - val_mae: 0.0080\n",
      "Epoch 125/200\n",
      "1064/1064 [==============================] - 20s 19ms/step - loss: 1.2418e-04 - mse: 1.2418e-04 - mae: 0.0079 - val_loss: 1.2863e-04 - val_mse: 1.2863e-04 - val_mae: 0.0079\n",
      "Epoch 126/200\n",
      "1064/1064 [==============================] - 20s 19ms/step - loss: 1.2383e-04 - mse: 1.2383e-04 - mae: 0.0079 - val_loss: 1.2865e-04 - val_mse: 1.2865e-04 - val_mae: 0.0078\n",
      "Epoch 127/200\n",
      "1064/1064 [==============================] - 20s 18ms/step - loss: 1.2446e-04 - mse: 1.2446e-04 - mae: 0.0080 - val_loss: 1.3056e-04 - val_mse: 1.3056e-04 - val_mae: 0.0080\n",
      "Epoch 128/200\n",
      "1064/1064 [==============================] - 19s 18ms/step - loss: 1.2227e-04 - mse: 1.2227e-04 - mae: 0.0079 - val_loss: 1.3285e-04 - val_mse: 1.3285e-04 - val_mae: 0.0081\n",
      "Epoch 129/200\n",
      "1064/1064 [==============================] - 19s 18ms/step - loss: 1.2291e-04 - mse: 1.2291e-04 - mae: 0.0079 - val_loss: 1.3172e-04 - val_mse: 1.3172e-04 - val_mae: 0.0078\n",
      "Epoch 130/200\n",
      "1064/1064 [==============================] - 19s 18ms/step - loss: 1.2228e-04 - mse: 1.2228e-04 - mae: 0.0079 - val_loss: 1.3368e-04 - val_mse: 1.3368e-04 - val_mae: 0.0079\n",
      "Epoch 131/200\n",
      "1064/1064 [==============================] - 19s 18ms/step - loss: 1.2150e-04 - mse: 1.2150e-04 - mae: 0.0079 - val_loss: 1.3636e-04 - val_mse: 1.3636e-04 - val_mae: 0.0080\n",
      "Epoch 132/200\n",
      "1064/1064 [==============================] - 19s 18ms/step - loss: 1.2181e-04 - mse: 1.2181e-04 - mae: 0.0079 - val_loss: 1.3477e-04 - val_mse: 1.3477e-04 - val_mae: 0.0082\n",
      "Epoch 133/200\n",
      "1064/1064 [==============================] - 20s 19ms/step - loss: 1.2048e-04 - mse: 1.2048e-04 - mae: 0.0078 - val_loss: 1.3366e-04 - val_mse: 1.3366e-04 - val_mae: 0.0080\n",
      "Epoch 134/200\n",
      "1064/1064 [==============================] - 20s 19ms/step - loss: 1.2137e-04 - mse: 1.2137e-04 - mae: 0.0078 - val_loss: 1.2905e-04 - val_mse: 1.2905e-04 - val_mae: 0.0080\n",
      "Epoch 135/200\n",
      "1064/1064 [==============================] - 20s 19ms/step - loss: 1.2032e-04 - mse: 1.2032e-04 - mae: 0.0078 - val_loss: 1.3714e-04 - val_mse: 1.3714e-04 - val_mae: 0.0083\n",
      "Epoch 136/200\n",
      "1064/1064 [==============================] - 20s 19ms/step - loss: 1.2060e-04 - mse: 1.2060e-04 - mae: 0.0078 - val_loss: 1.2648e-04 - val_mse: 1.2648e-04 - val_mae: 0.0077\n",
      "Epoch 137/200\n",
      "1064/1064 [==============================] - 20s 19ms/step - loss: 1.1973e-04 - mse: 1.1973e-04 - mae: 0.0078 - val_loss: 1.4284e-04 - val_mse: 1.4284e-04 - val_mae: 0.0083\n",
      "Epoch 138/200\n",
      "1064/1064 [==============================] - 19s 18ms/step - loss: 1.1923e-04 - mse: 1.1923e-04 - mae: 0.0078 - val_loss: 1.2833e-04 - val_mse: 1.2833e-04 - val_mae: 0.0078\n",
      "Epoch 139/200\n",
      "1064/1064 [==============================] - 19s 18ms/step - loss: 1.1921e-04 - mse: 1.1921e-04 - mae: 0.0078 - val_loss: 1.3020e-04 - val_mse: 1.3020e-04 - val_mae: 0.0078\n",
      "Epoch 140/200\n",
      "1064/1064 [==============================] - 19s 18ms/step - loss: 1.1889e-04 - mse: 1.1889e-04 - mae: 0.0078 - val_loss: 1.3128e-04 - val_mse: 1.3128e-04 - val_mae: 0.0078\n",
      "Epoch 141/200\n",
      "1064/1064 [==============================] - 19s 18ms/step - loss: 1.1835e-04 - mse: 1.1835e-04 - mae: 0.0077 - val_loss: 1.2242e-04 - val_mse: 1.2242e-04 - val_mae: 0.0076\n",
      "Epoch 142/200\n",
      "1064/1064 [==============================] - 19s 18ms/step - loss: 1.1844e-04 - mse: 1.1844e-04 - mae: 0.0077 - val_loss: 1.2430e-04 - val_mse: 1.2430e-04 - val_mae: 0.0076\n",
      "Epoch 143/200\n",
      "1064/1064 [==============================] - 19s 18ms/step - loss: 1.1908e-04 - mse: 1.1908e-04 - mae: 0.0078 - val_loss: 1.5874e-04 - val_mse: 1.5874e-04 - val_mae: 0.0094\n",
      "Epoch 144/200\n",
      "1064/1064 [==============================] - 19s 18ms/step - loss: 1.1766e-04 - mse: 1.1766e-04 - mae: 0.0077 - val_loss: 1.5053e-04 - val_mse: 1.5053e-04 - val_mae: 0.0090\n",
      "Epoch 145/200\n",
      "1064/1064 [==============================] - 19s 17ms/step - loss: 1.1670e-04 - mse: 1.1670e-04 - mae: 0.0077 - val_loss: 1.2794e-04 - val_mse: 1.2794e-04 - val_mae: 0.0077\n",
      "Epoch 146/200\n",
      "1064/1064 [==============================] - 25s 23ms/step - loss: 1.1626e-04 - mse: 1.1626e-04 - mae: 0.0076 - val_loss: 1.4329e-04 - val_mse: 1.4329e-04 - val_mae: 0.0083\n",
      "Epoch 147/200\n",
      "1064/1064 [==============================] - 26s 24ms/step - loss: 1.1712e-04 - mse: 1.1712e-04 - mae: 0.0077 - val_loss: 1.4140e-04 - val_mse: 1.4140e-04 - val_mae: 0.0085\n",
      "Epoch 148/200\n",
      "1064/1064 [==============================] - 27s 25ms/step - loss: 1.1580e-04 - mse: 1.1580e-04 - mae: 0.0076 - val_loss: 1.3009e-04 - val_mse: 1.3009e-04 - val_mae: 0.0079\n",
      "Epoch 149/200\n",
      "1064/1064 [==============================] - 28s 26ms/step - loss: 1.1564e-04 - mse: 1.1564e-04 - mae: 0.0076 - val_loss: 1.2189e-04 - val_mse: 1.2189e-04 - val_mae: 0.0075\n",
      "Epoch 150/200\n",
      "1064/1064 [==============================] - 28s 26ms/step - loss: 1.1543e-04 - mse: 1.1543e-04 - mae: 0.0076 - val_loss: 1.2722e-04 - val_mse: 1.2722e-04 - val_mae: 0.0078\n",
      "Epoch 151/200\n",
      "1064/1064 [==============================] - 27s 25ms/step - loss: 1.1522e-04 - mse: 1.1522e-04 - mae: 0.0076 - val_loss: 1.4894e-04 - val_mse: 1.4894e-04 - val_mae: 0.0088\n",
      "Epoch 152/200\n",
      "1064/1064 [==============================] - 27s 26ms/step - loss: 1.1537e-04 - mse: 1.1537e-04 - mae: 0.0076 - val_loss: 1.2379e-04 - val_mse: 1.2379e-04 - val_mae: 0.0075\n",
      "Epoch 153/200\n",
      "1064/1064 [==============================] - 28s 26ms/step - loss: 1.1429e-04 - mse: 1.1429e-04 - mae: 0.0076 - val_loss: 1.3106e-04 - val_mse: 1.3106e-04 - val_mae: 0.0082\n",
      "Epoch 154/200\n",
      "1064/1064 [==============================] - 28s 26ms/step - loss: 1.1465e-04 - mse: 1.1465e-04 - mae: 0.0076 - val_loss: 1.2808e-04 - val_mse: 1.2808e-04 - val_mae: 0.0078\n",
      "Epoch 155/200\n",
      "1064/1064 [==============================] - 27s 25ms/step - loss: 1.1476e-04 - mse: 1.1476e-04 - mae: 0.0076 - val_loss: 1.3173e-04 - val_mse: 1.3173e-04 - val_mae: 0.0082\n",
      "Epoch 156/200\n",
      "1064/1064 [==============================] - 27s 25ms/step - loss: 1.1220e-04 - mse: 1.1220e-04 - mae: 0.0075 - val_loss: 1.2094e-04 - val_mse: 1.2094e-04 - val_mae: 0.0075\n",
      "Epoch 157/200\n",
      "1064/1064 [==============================] - 27s 26ms/step - loss: 1.1289e-04 - mse: 1.1289e-04 - mae: 0.0075 - val_loss: 1.3500e-04 - val_mse: 1.3500e-04 - val_mae: 0.0080\n",
      "Epoch 158/200\n",
      "1064/1064 [==============================] - 27s 26ms/step - loss: 1.1295e-04 - mse: 1.1295e-04 - mae: 0.0075 - val_loss: 1.2760e-04 - val_mse: 1.2760e-04 - val_mae: 0.0078\n",
      "Epoch 159/200\n",
      "1064/1064 [==============================] - 27s 25ms/step - loss: 1.1289e-04 - mse: 1.1289e-04 - mae: 0.0075 - val_loss: 1.2901e-04 - val_mse: 1.2901e-04 - val_mae: 0.0079\n",
      "Epoch 160/200\n",
      "1064/1064 [==============================] - 28s 26ms/step - loss: 1.1173e-04 - mse: 1.1173e-04 - mae: 0.0075 - val_loss: 1.2882e-04 - val_mse: 1.2882e-04 - val_mae: 0.0079\n",
      "Epoch 161/200\n",
      "1064/1064 [==============================] - 29s 27ms/step - loss: 1.1107e-04 - mse: 1.1107e-04 - mae: 0.0074 - val_loss: 1.2591e-04 - val_mse: 1.2591e-04 - val_mae: 0.0077\n",
      "Epoch 162/200\n",
      "1064/1064 [==============================] - 28s 27ms/step - loss: 1.1129e-04 - mse: 1.1129e-04 - mae: 0.0075 - val_loss: 1.2081e-04 - val_mse: 1.2081e-04 - val_mae: 0.0075\n",
      "Epoch 163/200\n",
      "1064/1064 [==============================] - 28s 27ms/step - loss: 1.1157e-04 - mse: 1.1157e-04 - mae: 0.0075 - val_loss: 1.1870e-04 - val_mse: 1.1870e-04 - val_mae: 0.0074\n",
      "Epoch 164/200\n",
      "1064/1064 [==============================] - 21s 19ms/step - loss: 1.1029e-04 - mse: 1.1029e-04 - mae: 0.0074 - val_loss: 1.2816e-04 - val_mse: 1.2816e-04 - val_mae: 0.0078\n",
      "Epoch 165/200\n",
      "1064/1064 [==============================] - 19s 18ms/step - loss: 1.1229e-04 - mse: 1.1229e-04 - mae: 0.0075 - val_loss: 1.2427e-04 - val_mse: 1.2427e-04 - val_mae: 0.0078\n",
      "Epoch 166/200\n",
      "1064/1064 [==============================] - 19s 18ms/step - loss: 1.0928e-04 - mse: 1.0928e-04 - mae: 0.0074 - val_loss: 1.3449e-04 - val_mse: 1.3449e-04 - val_mae: 0.0082\n",
      "Epoch 167/200\n",
      "1064/1064 [==============================] - 20s 19ms/step - loss: 1.1024e-04 - mse: 1.1024e-04 - mae: 0.0074 - val_loss: 1.2288e-04 - val_mse: 1.2288e-04 - val_mae: 0.0077\n",
      "Epoch 168/200\n",
      "1064/1064 [==============================] - 19s 18ms/step - loss: 1.0933e-04 - mse: 1.0933e-04 - mae: 0.0074 - val_loss: 1.1961e-04 - val_mse: 1.1961e-04 - val_mae: 0.0075\n",
      "Epoch 169/200\n",
      "1064/1064 [==============================] - 19s 18ms/step - loss: 1.0808e-04 - mse: 1.0808e-04 - mae: 0.0073 - val_loss: 1.3725e-04 - val_mse: 1.3725e-04 - val_mae: 0.0082\n",
      "Epoch 170/200\n",
      "1064/1064 [==============================] - 20s 19ms/step - loss: 1.0924e-04 - mse: 1.0924e-04 - mae: 0.0074 - val_loss: 1.2325e-04 - val_mse: 1.2325e-04 - val_mae: 0.0078\n",
      "Epoch 171/200\n",
      "1064/1064 [==============================] - 20s 19ms/step - loss: 1.0907e-04 - mse: 1.0907e-04 - mae: 0.0074 - val_loss: 1.2365e-04 - val_mse: 1.2365e-04 - val_mae: 0.0076\n",
      "Epoch 172/200\n",
      "1064/1064 [==============================] - 19s 18ms/step - loss: 1.0712e-04 - mse: 1.0712e-04 - mae: 0.0073 - val_loss: 1.1874e-04 - val_mse: 1.1874e-04 - val_mae: 0.0074\n",
      "Epoch 173/200\n",
      "1064/1064 [==============================] - 20s 19ms/step - loss: 1.0767e-04 - mse: 1.0767e-04 - mae: 0.0073 - val_loss: 1.1732e-04 - val_mse: 1.1732e-04 - val_mae: 0.0074\n",
      "Epoch 174/200\n",
      "1064/1064 [==============================] - 19s 18ms/step - loss: 1.0786e-04 - mse: 1.0786e-04 - mae: 0.0073 - val_loss: 1.1924e-04 - val_mse: 1.1924e-04 - val_mae: 0.0075\n",
      "Epoch 175/200\n",
      "1064/1064 [==============================] - 19s 18ms/step - loss: 1.0677e-04 - mse: 1.0677e-04 - mae: 0.0073 - val_loss: 1.1827e-04 - val_mse: 1.1827e-04 - val_mae: 0.0075\n",
      "Epoch 176/200\n",
      "1064/1064 [==============================] - 19s 18ms/step - loss: 1.0793e-04 - mse: 1.0793e-04 - mae: 0.0073 - val_loss: 1.1941e-04 - val_mse: 1.1941e-04 - val_mae: 0.0075\n",
      "Epoch 177/200\n",
      "1064/1064 [==============================] - 19s 18ms/step - loss: 1.0685e-04 - mse: 1.0685e-04 - mae: 0.0073 - val_loss: 1.1494e-04 - val_mse: 1.1494e-04 - val_mae: 0.0072\n",
      "Epoch 178/200\n",
      "1064/1064 [==============================] - 19s 18ms/step - loss: 1.0653e-04 - mse: 1.0653e-04 - mae: 0.0073 - val_loss: 1.3063e-04 - val_mse: 1.3063e-04 - val_mae: 0.0082\n",
      "Epoch 179/200\n",
      "1064/1064 [==============================] - 19s 18ms/step - loss: 1.0638e-04 - mse: 1.0638e-04 - mae: 0.0073 - val_loss: 1.2402e-04 - val_mse: 1.2402e-04 - val_mae: 0.0076\n",
      "Epoch 180/200\n",
      "1064/1064 [==============================] - 20s 18ms/step - loss: 1.0600e-04 - mse: 1.0600e-04 - mae: 0.0072 - val_loss: 1.2349e-04 - val_mse: 1.2349e-04 - val_mae: 0.0078\n",
      "Epoch 181/200\n",
      "1064/1064 [==============================] - 19s 18ms/step - loss: 1.0511e-04 - mse: 1.0511e-04 - mae: 0.0072 - val_loss: 1.3275e-04 - val_mse: 1.3275e-04 - val_mae: 0.0079\n",
      "Epoch 182/200\n",
      "1064/1064 [==============================] - 19s 18ms/step - loss: 1.0550e-04 - mse: 1.0550e-04 - mae: 0.0072 - val_loss: 1.2152e-04 - val_mse: 1.2152e-04 - val_mae: 0.0074\n",
      "Epoch 183/200\n",
      "1064/1064 [==============================] - 20s 19ms/step - loss: 1.0502e-04 - mse: 1.0502e-04 - mae: 0.0072 - val_loss: 1.1540e-04 - val_mse: 1.1540e-04 - val_mae: 0.0072\n",
      "Epoch 184/200\n",
      "1064/1064 [==============================] - 19s 18ms/step - loss: 1.0411e-04 - mse: 1.0411e-04 - mae: 0.0072 - val_loss: 1.1932e-04 - val_mse: 1.1932e-04 - val_mae: 0.0073\n",
      "Epoch 185/200\n",
      "1064/1064 [==============================] - 19s 18ms/step - loss: 1.0358e-04 - mse: 1.0358e-04 - mae: 0.0072 - val_loss: 1.1636e-04 - val_mse: 1.1636e-04 - val_mae: 0.0074\n",
      "Epoch 186/200\n",
      "1064/1064 [==============================] - 23s 22ms/step - loss: 1.0321e-04 - mse: 1.0321e-04 - mae: 0.0071 - val_loss: 1.1622e-04 - val_mse: 1.1622e-04 - val_mae: 0.0072\n",
      "Epoch 187/200\n",
      "1064/1064 [==============================] - 28s 27ms/step - loss: 1.0360e-04 - mse: 1.0360e-04 - mae: 0.0071 - val_loss: 1.1849e-04 - val_mse: 1.1849e-04 - val_mae: 0.0075\n",
      "Epoch 188/200\n",
      "1064/1064 [==============================] - 28s 27ms/step - loss: 1.0375e-04 - mse: 1.0375e-04 - mae: 0.0071 - val_loss: 1.4259e-04 - val_mse: 1.4259e-04 - val_mae: 0.0086\n",
      "Epoch 189/200\n",
      "1064/1064 [==============================] - 28s 27ms/step - loss: 1.0232e-04 - mse: 1.0232e-04 - mae: 0.0071 - val_loss: 1.1150e-04 - val_mse: 1.1150e-04 - val_mae: 0.0071\n",
      "Epoch 190/200\n",
      "1064/1064 [==============================] - 28s 26ms/step - loss: 1.0312e-04 - mse: 1.0312e-04 - mae: 0.0071 - val_loss: 1.2113e-04 - val_mse: 1.2113e-04 - val_mae: 0.0076\n",
      "Epoch 191/200\n",
      "1064/1064 [==============================] - 28s 27ms/step - loss: 1.0260e-04 - mse: 1.0260e-04 - mae: 0.0071 - val_loss: 1.1469e-04 - val_mse: 1.1469e-04 - val_mae: 0.0073\n",
      "Epoch 192/200\n",
      "1064/1064 [==============================] - 28s 27ms/step - loss: 1.0248e-04 - mse: 1.0248e-04 - mae: 0.0071 - val_loss: 1.2007e-04 - val_mse: 1.2007e-04 - val_mae: 0.0075\n",
      "Epoch 193/200\n",
      "1064/1064 [==============================] - 28s 27ms/step - loss: 1.0118e-04 - mse: 1.0118e-04 - mae: 0.0071 - val_loss: 1.1534e-04 - val_mse: 1.1534e-04 - val_mae: 0.0071\n",
      "Epoch 194/200\n",
      "1064/1064 [==============================] - 28s 27ms/step - loss: 1.0238e-04 - mse: 1.0238e-04 - mae: 0.0071 - val_loss: 1.1575e-04 - val_mse: 1.1575e-04 - val_mae: 0.0073\n",
      "Epoch 195/200\n",
      "1064/1064 [==============================] - 29s 27ms/step - loss: 1.0156e-04 - mse: 1.0156e-04 - mae: 0.0071 - val_loss: 1.1781e-04 - val_mse: 1.1781e-04 - val_mae: 0.0074\n",
      "Epoch 196/200\n",
      "1064/1064 [==============================] - 28s 27ms/step - loss: 1.0108e-04 - mse: 1.0108e-04 - mae: 0.0071 - val_loss: 1.1949e-04 - val_mse: 1.1949e-04 - val_mae: 0.0073\n",
      "Epoch 197/200\n",
      "1064/1064 [==============================] - 28s 27ms/step - loss: 1.0034e-04 - mse: 1.0034e-04 - mae: 0.0070 - val_loss: 1.1638e-04 - val_mse: 1.1638e-04 - val_mae: 0.0073\n",
      "Epoch 198/200\n",
      "1064/1064 [==============================] - 29s 27ms/step - loss: 1.0101e-04 - mse: 1.0101e-04 - mae: 0.0070 - val_loss: 1.1257e-04 - val_mse: 1.1257e-04 - val_mae: 0.0071\n",
      "Epoch 199/200\n",
      "1064/1064 [==============================] - 28s 27ms/step - loss: 1.0018e-04 - mse: 1.0018e-04 - mae: 0.0070 - val_loss: 1.1204e-04 - val_mse: 1.1204e-04 - val_mae: 0.0071\n",
      "Epoch 200/200\n",
      "1064/1064 [==============================] - 29s 27ms/step - loss: 1.0052e-04 - mse: 1.0052e-04 - mae: 0.0070 - val_loss: 1.1324e-04 - val_mse: 1.1324e-04 - val_mae: 0.0071\n",
      "12284.361183813 seconds\n"
     ]
    }
   ],
   "source": [
    "# CNN training\n",
    "import time\n",
    "\n",
    "start_time = time.process_time()\n",
    "\n",
    "model, early_history = evaluate_model(trainX, trainy)\n",
    "\n",
    "print (time.process_time() - start_time, \"seconds\")"
   ]
  },
  {
   "cell_type": "code",
   "execution_count": 26,
   "id": "128f88aa",
   "metadata": {},
   "outputs": [
    {
     "data": {
      "image/png": "[encoded data removed]",
      "text/plain": [
       "<Figure size 600x400 with 1 Axes>"
      ]
     },
     "metadata": {},
     "output_type": "display_data"
    },
    {
     "data": {
      "image/png": "[encoded data removed]",
      "text/plain": [
       "<Figure size 600x400 with 1 Axes>"
      ]
     },
     "metadata": {},
     "output_type": "display_data"
    }
   ],
   "source": [
    "#check performance history\n",
    "plot_compare(early_history, steps=100)"
   ]
  },
  {
   "cell_type": "code",
   "execution_count": 34,
   "id": "85c7b5a8",
   "metadata": {},
   "outputs": [
    {
     "name": "stdout",
     "output_type": "stream",
     "text": [
      "741/741 [==============================] - 4s 5ms/step\n",
      "2659/2659 [==============================] - 14s 5ms/step\n"
     ]
    }
   ],
   "source": [
    "#generate predictions\n",
    "import sys\n",
    "import numpy\n",
    "from sklearn import metrics\n",
    "\n",
    "\n",
    "all_preds = model.predict(testX) \n",
    "preds = model.predict(trainX)\n"
   ]
  },
  {
   "cell_type": "code",
   "execution_count": 35,
   "id": "4872d09b",
   "metadata": {},
   "outputs": [
    {
     "name": "stdout",
     "output_type": "stream",
     "text": [
      "mean_squared_error: 0.000859\n",
      "Test RMSE: 0.029\n"
     ]
    }
   ],
   "source": [
    "\n",
    "#rescaling and rmse calculation\n",
    "all_preds_rescale = scalerY.inverse_transform(all_preds)#[:,0].reshape(-1,1))\n",
    "preds_rescale = scalerY.inverse_transform(preds)#[:,0].reshape(-1,1))\n",
    "print('mean_squared_error: %f' % (metrics.mean_squared_error(testy, all_preds_rescale)))\n",
    "\n",
    "rmse = sqrt(metrics.mean_squared_error(testy,all_preds_rescale))\n",
    "print('Test RMSE: %.3f' % rmse)\n",
    "\n"
   ]
  },
  {
   "cell_type": "markdown",
   "id": "0b60d62e",
   "metadata": {},
   "source": [
    "Mapping the predicted amplitude values to each slice and saving it"
   ]
  },
  {
   "cell_type": "code",
   "execution_count": 42,
   "id": "bbbf0ca8",
   "metadata": {},
   "outputs": [],
   "source": [
    "map_dict_test =[]\n",
    "for i in range(len(test_list)):\n",
    "    string = 'test_preds_'+ cest_array_paths[test_list[i]].split('a_')[1][:-4]\n",
    "    my_dict = {string:all_preds[test_map_indices[i]:test_map_indices[i+1]]}\n",
    "    map_dict_test.append(my_dict)"
   ]
  },
  {
   "cell_type": "code",
   "execution_count": 43,
   "id": "0a51afca",
   "metadata": {},
   "outputs": [],
   "source": [
    "map_dict_train =[]\n",
    "for i in range(len(train_list)):\n",
    "    string = 'train_preds_'+ cest_array_paths[train_list[i]].split('a_')[1][:-4]\n",
    "    my_dict = {string:preds_rescale[train_map_indices[i]:train_map_indices[i+1]]}\n",
    "    map_dict_train.append(my_dict)"
   ]
  },
  {
   "cell_type": "code",
   "execution_count": 44,
   "id": "e3aefb7c",
   "metadata": {},
   "outputs": [],
   "source": [
    "for i in range(len(map_dict_train)):\n",
    "    b = map_dict_train[i][\"train_preds_\"+cest_array_paths[train_list[i]].split('a_')[1][:-4]]\n",
    "    b = pd.DataFrame(b)\n",
    "    b.to_csv('/mnt/yadav_lab_backup/vdsouza1/Lorentzian_data_preds/Predictions/'+ cest_array_paths[train_list[i]].split('a_')[1][:-4]+'.csv', index=False)    "
   ]
  },
  {
   "cell_type": "code",
   "execution_count": 45,
   "id": "043da6f2",
   "metadata": {},
   "outputs": [],
   "source": [
    "for i in range(len(map_dict_test)):\n",
    "    b = map_dict_test[i][\"test_preds_\"+cest_array_paths[test_list[i]].split('a_')[1][:-4]]\n",
    "    b = pd.DataFrame(b)\n",
    "    b.to_csv('/mnt/yadav_lab_backup/vdsouza1/Lorentzian_data_preds/Predictions/'+ cest_array_paths[test_list[i]].split('a_')[1][:-4]+'.csv', index=False)    "
   ]
  },
  {
   "cell_type": "markdown",
   "id": "2fdd701f",
   "metadata": {},
   "source": [
    "# Prediction maps shown in data preprocessing notebook"
   ]
  }
 ],
 "metadata": {
  "kernelspec": {
   "display_name": "pythoncpu",
   "language": "python",
   "name": "pythoncpu"
  },
  "language_info": {
   "codemirror_mode": {
    "name": "ipython",
    "version": 3
   },
   "file_extension": ".py",
   "mimetype": "text/x-python",
   "name": "python",
   "nbconvert_exporter": "python",
   "pygments_lexer": "ipython3",
   "version": "3.10.4"
  }
 },
 "nbformat": 4,
 "nbformat_minor": 5
}
